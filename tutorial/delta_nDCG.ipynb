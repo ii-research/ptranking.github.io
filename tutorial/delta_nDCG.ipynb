{
 "cells": [
  {
   "cell_type": "markdown",
   "metadata": {},
   "source": [
    "### A Comparative Study of Lambda Setting"
   ]
  },
  {
   "cell_type": "markdown",
   "metadata": {},
   "source": [
    "#### Necessary Imports"
   ]
  },
  {
   "cell_type": "code",
   "execution_count": 14,
   "metadata": {},
   "outputs": [],
   "source": [
    "import numpy as np\n",
    "\n",
    "import torch"
   ]
  },
  {
   "cell_type": "markdown",
   "metadata": {},
   "source": [
    "#### Lambda"
   ]
  },
  {
   "cell_type": "code",
   "execution_count": 13,
   "metadata": {},
   "outputs": [],
   "source": [
    "def ideal_dcg(ideally_sorted_labels):\n",
    "    '''\n",
    "\n",
    "    :param ideally_sorted_labels:\n",
    "    :return:\n",
    "    '''\n",
    "    gains = np.power(2.0, ideally_sorted_labels) - 1.0\n",
    "    ranks = np.arange(len(ideally_sorted_labels)) + 1.0\n",
    "\n",
    "    discounts = np.log2(1.0 + ranks)\n",
    "    ideal_dcg = np.sum(gains / discounts)\n",
    "\n",
    "    return ideal_dcg\n",
    "\n",
    "def get_delta_gains(labels_sorted_via_preds):\n",
    "    gains = np.power(2.0, labels_sorted_via_preds) - 1.0\n",
    "    gain_diffs = np.expand_dims(gains, axis=1) - np.expand_dims(gains, axis=0)\n",
    "    delta_gain = np.abs(gain_diffs)  # absolute delta gains w.r.t. pairwise swapping\n",
    "\n",
    "    return delta_gain\n",
    "\n",
    "def get_delta_ndcg(ideally_sorted_labels, labels_sorted_via_preds):\n",
    "    '''\n",
    "    Delta-nDCG w.r.t. pairwise swapping of the currently predicted ranking\n",
    "    '''\n",
    "    idcg = ideal_dcg(ideally_sorted_labels) # ideal discount cumulative gains\n",
    "\n",
    "    gains = np.power(2.0, labels_sorted_via_preds) - 1.0\n",
    "    n_gains = gains / idcg                  # normalised gains\n",
    "    ng_diffs = np.expand_dims(n_gains, axis=1) - np.expand_dims(n_gains, axis=0)\n",
    "\n",
    "    ranks = np.arange(len(labels_sorted_via_preds)) + 1.0\n",
    "    dists = 1.0 / np.log2(ranks + 1.0)      # discount co-efficients\n",
    "    dists_diffs = np.expand_dims(dists, axis=1) - np.expand_dims(dists, axis=0)\n",
    "    mat_delta_ndcg = np.abs(ng_diffs) * np.abs(dists_diffs)  # absolute changes w.r.t. pairwise swapping\n",
    "\n",
    "    return mat_delta_ndcg\n",
    "\n",
    "def to_gain(labels):\n",
    "    return np.power(2.0, labels) - 1.0"
   ]
  },
  {
   "cell_type": "markdown",
   "metadata": {},
   "source": [
    "#### Delta-nDCG"
   ]
  },
  {
   "cell_type": "code",
   "execution_count": 12,
   "metadata": {},
   "outputs": [
    {
     "name": "stdout",
     "output_type": "stream",
     "text": [
      "delta-nDCG:\n",
      " [[0.         0.1535592  0.06934506 0.23687862 0.08503746 0.26786312]\n",
      " [0.1535592  0.         0.03631733 0.         0.06770212 0.        ]\n",
      " [0.06934506 0.03631733 0.         0.01922895 0.         0.03988529]\n",
      " [0.23687862 0.         0.01922895 0.         0.01215584 0.        ]\n",
      " [0.08503746 0.06770212 0.         0.01215584 0.         0.00850049]\n",
      " [0.26786312 0.         0.03988529 0.         0.00850049 0.        ]]\n"
     ]
    }
   ],
   "source": [
    "ideally_sorted_labels   = np.asarray([2, 2, 2, 1, 1, 0])\n",
    "labels_sorted_via_preds = np.asarray([0, 2, 1, 2, 1, 2])\n",
    "\n",
    "\n",
    "mat_delta_ndcg = get_delta_ndcg(ideally_sorted_labels, labels_sorted_via_preds)\n",
    "print('delta-nDCG:\\n', mat_delta_ndcg)"
   ]
  },
  {
   "cell_type": "code",
   "execution_count": 79,
   "metadata": {},
   "outputs": [
    {
     "name": "stdout",
     "output_type": "stream",
     "text": [
      "delta-nDCG:\n",
      " [[0.         0.         0.         0.15791908 0.17007492 0.26786312]\n",
      " [0.         0.         0.         0.05554628 0.06770212 0.11430392]\n",
      " [0.         0.         0.         0.01922895 0.0313848  0.05982793]\n",
      " [0.15791908 0.05554628 0.01922895 0.         0.         0.01032817]\n",
      " [0.17007492 0.06770212 0.0313848  0.         0.         0.00425024]\n",
      " [0.26786312 0.11430392 0.05982793 0.01032817 0.00425024 0.        ]]\n"
     ]
    }
   ],
   "source": [
    "mat_delta_ndcg = get_delta_ndcg(ideally_sorted_labels, ideally_sorted_labels)\n",
    "print('delta-nDCG:\\n', mat_delta_ndcg)"
   ]
  },
  {
   "cell_type": "code",
   "execution_count": 11,
   "metadata": {},
   "outputs": [
    {
     "name": "stdout",
     "output_type": "stream",
     "text": [
      "delta-gain:\n",
      " [[0. 3. 1. 3. 1. 3.]\n",
      " [3. 0. 2. 0. 2. 0.]\n",
      " [1. 2. 0. 2. 0. 2.]\n",
      " [3. 0. 2. 0. 2. 0.]\n",
      " [1. 2. 0. 2. 0. 2.]\n",
      " [3. 0. 2. 0. 2. 0.]]\n"
     ]
    }
   ],
   "source": [
    "delta_gain = get_delta_gains(labels_sorted_via_preds)\n",
    "print('delta-gain:\\n', delta_gain)"
   ]
  },
  {
   "cell_type": "markdown",
   "metadata": {
    "pycharm": {
     "name": "#%% md\n"
    }
   },
   "source": []
  }
 ],
 "metadata": {
  "kernelspec": {
   "display_name": "Python (pytorch11)",
   "language": "python",
   "name": "pytorch11"
  },
  "language_info": {
   "codemirror_mode": {
    "name": "ipython",
    "version": 3
   },
   "file_extension": ".py",
   "mimetype": "text/x-python",
   "name": "python",
   "nbconvert_exporter": "python",
   "pygments_lexer": "ipython3",
   "version": "3.7.3"
  }
 },
 "nbformat": 4,
 "nbformat_minor": 2
}